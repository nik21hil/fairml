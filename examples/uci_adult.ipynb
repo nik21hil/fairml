{
 "cells": [
  {
   "cell_type": "code",
   "execution_count": null,
   "id": "66bca8c3-3e6f-46b6-9340-54dfc984adc6",
   "metadata": {},
   "outputs": [],
   "source": [
    "import pandas as pd\n",
    "import numpy as np\n",
    "import matplotlib.pyplot as plt\n",
    "\n",
    "from sklearn.model_selection import train_test_split\n",
    "from sklearn.linear_model import LogisticRegression\n",
    "from sklearn.preprocessing import StandardScaler, LabelEncoder\n",
    "from sklearn.metrics import accuracy_score\n",
    "\n",
    "from fairml.metrics import (\n",
    "    statistical_parity_difference,\n",
    "    disparate_impact_ratio,\n",
    "    true_positive_rate_difference,\n",
    "    false_negative_rate_difference\n",
    ")\n",
    "from fairml.visualization import (\n",
    "    plot_group_distribution,\n",
    "    plot_group_parity\n",
    ")\n",
    "from fairml.preprocessing import (\n",
    "    reweight_samples,\n",
    "    resample_dataset\n",
    ")\n",
    "from fairml.postprocessing import (\n",
    "    reject_option_classification,\n",
    "    equalized_odds_adjustment,\n",
    "    threshold_optimization\n",
    ")\n"
   ]
  }
 ],
 "metadata": {
  "kernelspec": {
   "display_name": "Python 3 (ipykernel)",
   "language": "python",
   "name": "python3"
  },
  "language_info": {
   "codemirror_mode": {
    "name": "ipython",
    "version": 3
   },
   "file_extension": ".py",
   "mimetype": "text/x-python",
   "name": "python",
   "nbconvert_exporter": "python",
   "pygments_lexer": "ipython3",
   "version": "3.12.9"
  }
 },
 "nbformat": 4,
 "nbformat_minor": 5
}
